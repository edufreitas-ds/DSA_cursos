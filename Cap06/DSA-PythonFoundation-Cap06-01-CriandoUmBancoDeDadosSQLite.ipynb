{
 "cells": [
  {
   "cell_type": "markdown",
   "metadata": {},
   "source": [
    "# <font color = \"green\"> DSA - Python Fundamentos para Análise de Dados - Cáp.06 </font>\n",
    "\n",
    "Documentação SQLite: https://www.sqlite.org/docs.html"
   ]
  },
  {
   "cell_type": "markdown",
   "metadata": {},
   "source": [
    "## Acessando Banco de Dados com Python"
   ]
  },
  {
   "cell_type": "code",
   "execution_count": 4,
   "metadata": {},
   "outputs": [],
   "source": [
    "# Remove o arquivo com o banco de dados SQLite (caso exista)\n",
    "# Mas por que? O Jupyter Notebook pode ser zerado a cada execução (clear output). Ao fazer um processo de análise, uma boa prótica é apenas remover o arquivo.\n",
    "import os\n",
    "os.remove(\"escola.db\") if os.path.exists(\"escola.db\") else None"
   ]
  },
  {
   "cell_type": "code",
   "execution_count": 5,
   "metadata": {},
   "outputs": [],
   "source": [
    "# Importando o módulo de acesso ao SQLite\n",
    "import sqlite3"
   ]
  },
  {
   "cell_type": "code",
   "execution_count": 6,
   "metadata": {},
   "outputs": [],
   "source": [
    "# Cria uma conexão com banco de dados.\n",
    "# Se o banco de dados não existir, ele é criado neste momento.\n",
    "con = sqlite3.connect(\"escola.db\")"
   ]
  },
  {
   "cell_type": "code",
   "execution_count": 7,
   "metadata": {},
   "outputs": [
    {
     "data": {
      "text/plain": [
       "sqlite3.Connection"
      ]
     },
     "execution_count": 7,
     "metadata": {},
     "output_type": "execute_result"
    }
   ],
   "source": [
    "type(con)"
   ]
  },
  {
   "cell_type": "code",
   "execution_count": 8,
   "metadata": {},
   "outputs": [],
   "source": [
    "# Criando um cursor\n",
    "# (Um cursor permite percorrer todos os registros em um banco de dados)\n",
    "cur = con.cursor()"
   ]
  },
  {
   "cell_type": "code",
   "execution_count": 9,
   "metadata": {},
   "outputs": [
    {
     "data": {
      "text/plain": [
       "sqlite3.Cursor"
      ]
     },
     "execution_count": 9,
     "metadata": {},
     "output_type": "execute_result"
    }
   ],
   "source": [
    "type(cur)"
   ]
  },
  {
   "cell_type": "code",
   "execution_count": 10,
   "metadata": {},
   "outputs": [],
   "source": [
    "# Criar uma tabela no banco de dados\n",
    "# Para isso utiliamos SQL, um comando DDL - Data Definition Language (CREATE TABLE)\n",
    "# pk = Não posso ter valores repetidos nessa coluna\n",
    "\n",
    "sql_create = \"create table cursos \"\\\n",
    "\"(id integer primary key, \"\\\n",
    "\"titulo varchar(100), \"\\\n",
    "\"categoria varchar(140))\""
   ]
  },
  {
   "cell_type": "code",
   "execution_count": 11,
   "metadata": {},
   "outputs": [
    {
     "data": {
      "text/plain": [
       "<sqlite3.Cursor at 0x2808253ac70>"
      ]
     },
     "execution_count": 11,
     "metadata": {},
     "output_type": "execute_result"
    }
   ],
   "source": [
    "# Para criar a tabela\n",
    "# Executamos a instrução sql no cursor\n",
    "cur.execute (sql_create)"
   ]
  },
  {
   "cell_type": "code",
   "execution_count": 12,
   "metadata": {},
   "outputs": [],
   "source": [
    "# Criando outra sentença SQL (DML) para inserir registros\n",
    "sql_insert = \"insert into cursos values(?, ? ,?)\""
   ]
  },
  {
   "cell_type": "code",
   "execution_count": 13,
   "metadata": {},
   "outputs": [],
   "source": [
    "# Criando os Dados a serem inseridos na tablea\n",
    "\n",
    "recset = [(1000, \"Ciência de Dados\", \"Data Science\"),\n",
    "          (1001, \"Big Data Fundamentos\", \"Big Data\"),\n",
    "          (1002, \"Python Fundamentos\", \"Análise de Dados\")]"
   ]
  },
  {
   "cell_type": "code",
   "execution_count": 14,
   "metadata": {},
   "outputs": [],
   "source": [
    "# Inserindo os registros\n",
    "for rec in recset:\n",
    "    cur.execute(sql_insert, rec)"
   ]
  },
  {
   "cell_type": "code",
   "execution_count": 15,
   "metadata": {},
   "outputs": [],
   "source": [
    "# Grava a transação (salvar)\n",
    "con.commit()"
   ]
  },
  {
   "cell_type": "code",
   "execution_count": 13,
   "metadata": {},
   "outputs": [],
   "source": [
    "# Query SQL\n",
    "# Criando outra sentença SQL para selecionar registros\n",
    "sql_select = \"select * from cursos\""
   ]
  },
  {
   "cell_type": "code",
   "execution_count": 14,
   "metadata": {},
   "outputs": [],
   "source": [
    "# Seleciona todos os registros e recupera os registros\n",
    "cur.execute(sql_select)\n",
    "dados = cur.fetchall()"
   ]
  },
  {
   "cell_type": "code",
   "execution_count": 15,
   "metadata": {},
   "outputs": [
    {
     "name": "stdout",
     "output_type": "stream",
     "text": [
      "Curso Id: 1000, Título: Ciência de Dados, Categoria: Data Science \n",
      "\n",
      "Curso Id: 1001, Título: Big Data Fundamentos, Categoria: Big Data \n",
      "\n",
      "Curso Id: 1002, Título: Python Fundamentos, Categoria: Análise de Dados \n",
      "\n"
     ]
    }
   ],
   "source": [
    "# Mostra\n",
    "for linha in dados:\n",
    "    print(\"Curso Id: %d, Título: %s, Categoria: %s \\n\" % linha)"
   ]
  },
  {
   "cell_type": "code",
   "execution_count": 16,
   "metadata": {},
   "outputs": [],
   "source": [
    "# Gerando outros registros\n",
    "\n",
    "recset = [(1003, \"Gestão de Dados com MongoDb\", \"Big Data\"),\n",
    "          (1004, \"R Fundamentos\", \"Análise de Dados\")]\n",
    "\n",
    "# Inserindo os registros\n",
    "for rec in recset:\n",
    "    cur.execute(sql_insert, rec)\n",
    "    \n",
    "    \n",
    "# Gravando a transação\n",
    "con.commit()"
   ]
  },
  {
   "cell_type": "code",
   "execution_count": 17,
   "metadata": {},
   "outputs": [
    {
     "name": "stdout",
     "output_type": "stream",
     "text": [
      "Curso Id: 1000, Título: Ciência de Dados, Categoria: Data Science \n",
      "\n",
      "Curso Id: 1001, Título: Big Data Fundamentos, Categoria: Big Data \n",
      "\n",
      "Curso Id: 1002, Título: Python Fundamentos, Categoria: Análise de Dados \n",
      "\n",
      "Curso Id: 1003, Título: Gestão de Dados com MongoDb, Categoria: Big Data \n",
      "\n",
      "Curso Id: 1004, Título: R Fundamentos, Categoria: Análise de Dados \n",
      "\n"
     ]
    }
   ],
   "source": [
    "# Seleciona todos os registros\n",
    "cur.execute(\"select * from cursos\")\n",
    "\n",
    "# Recupera os resultados\n",
    "recset = cur.fetchall()\n",
    "\n",
    "# Mostra \n",
    "for rec in recset:\n",
    "    print(\"Curso Id: %d, Título: %s, Categoria: %s \\n\" % rec)"
   ]
  },
  {
   "cell_type": "code",
   "execution_count": 18,
   "metadata": {},
   "outputs": [],
   "source": [
    "# Fecha a conexão\n",
    "con.close()"
   ]
  },
  {
   "cell_type": "markdown",
   "metadata": {},
   "source": [
    "# <font color = \"green\"> FIM! </font>"
   ]
  }
 ],
 "metadata": {
  "kernelspec": {
   "display_name": "Python 3",
   "language": "python",
   "name": "python3"
  },
  "language_info": {
   "codemirror_mode": {
    "name": "ipython",
    "version": 3
   },
   "file_extension": ".py",
   "mimetype": "text/x-python",
   "name": "python",
   "nbconvert_exporter": "python",
   "pygments_lexer": "ipython3",
   "version": "3.8.8"
  }
 },
 "nbformat": 4,
 "nbformat_minor": 4
}
