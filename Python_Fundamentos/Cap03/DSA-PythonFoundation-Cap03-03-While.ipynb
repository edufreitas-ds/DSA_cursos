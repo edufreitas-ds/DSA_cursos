{
 "cells": [
  {
   "cell_type": "markdown",
   "metadata": {},
   "source": [
    "# <font color = \"green\"> DSA - Python Fundamentos para Análise de Dados - Cáp.03 </font>"
   ]
  },
  {
   "cell_type": "markdown",
   "metadata": {},
   "source": [
    "## While"
   ]
  },
  {
   "cell_type": "code",
   "execution_count": 1,
   "metadata": {},
   "outputs": [],
   "source": [
    "# Usando o loop while para imprimir os valores de 0 a 9\n",
    "counter = 0 \n",
    "while counter < 10:\n",
    "    print(counter)\n",
    "    counter += 1 # Condição necessária para não executar infinitamente (deixe de ser verdadeira)."
   ]
  },
  {
   "cell_type": "code",
   "execution_count": 2,
   "metadata": {},
   "outputs": [
    {
     "name": "stdout",
     "output_type": "stream",
     "text": [
      "O valor de x nesta iteração é:  0\n",
      " x ainda é menor que 10, somando 1 a x\n",
      "O valor de x nesta iteração é:  1\n",
      " x ainda é menor que 10, somando 1 a x\n",
      "O valor de x nesta iteração é:  2\n",
      " x ainda é menor que 10, somando 1 a x\n",
      "O valor de x nesta iteração é:  3\n",
      " x ainda é menor que 10, somando 1 a x\n",
      "O valor de x nesta iteração é:  4\n",
      " x ainda é menor que 10, somando 1 a x\n",
      "O valor de x nesta iteração é:  5\n",
      " x ainda é menor que 10, somando 1 a x\n",
      "O valor de x nesta iteração é:  6\n",
      " x ainda é menor que 10, somando 1 a x\n",
      "O valor de x nesta iteração é:  7\n",
      " x ainda é menor que 10, somando 1 a x\n",
      "O valor de x nesta iteração é:  8\n",
      " x ainda é menor que 10, somando 1 a x\n",
      "O valor de x nesta iteração é:  9\n",
      " x ainda é menor que 10, somando 1 a x\n",
      "Loop concluído!\n",
      "Pois o valor de x é igual a 10!\n"
     ]
    }
   ],
   "source": [
    "# Também é possível usar a cláusula else para encerrar o loop while\n",
    "x = 0\n",
    "while x < 10: # Enquanto for True, vai executar a ação:\n",
    "    print(\"O valor de x nesta iteração é: \", x)\n",
    "    print(\" x ainda é menor que 10, somando 1 a x\")\n",
    "    x += 1\n",
    "    \n",
    "else: # Quando deixar de ser True, ou seja, ser False, vai executar a ação:\n",
    "    print(\"Loop concluído!\")\n",
    "    print(\"Pois o valor de x é igual a 10!\")"
   ]
  },
  {
   "cell_type": "markdown",
   "metadata": {},
   "source": [
    "## Pass, Break, Continue\n",
    "\n",
    "Alternativa para interreomper a execução de Loop While"
   ]
  },
  {
   "cell_type": "code",
   "execution_count": 3,
   "metadata": {},
   "outputs": [
    {
     "name": "stdout",
     "output_type": "stream",
     "text": [
      "0\n",
      "1\n",
      "2\n",
      "3\n"
     ]
    }
   ],
   "source": [
    "counter = 0\n",
    "while counter < 100:\n",
    "    if counter == 4:\n",
    "        break # Pare quando counter for igual a 4\n",
    "    else:\n",
    "        pass # Continue enquanto não for igual a 4\n",
    "    print(counter)\n",
    "    counter = counter + 1"
   ]
  },
  {
   "cell_type": "code",
   "execution_count": 4,
   "metadata": {},
   "outputs": [
    {
     "name": "stdout",
     "output_type": "stream",
     "text": [
      "P\n",
      "y\n",
      "t\n",
      "o\n",
      "n\n"
     ]
    }
   ],
   "source": [
    "for verificador in \"Python\": # Para cada letra em Python\n",
    "    if verificador == \"h\": \n",
    "        continue  # Pule se atender a condição, ou seja, se a letra for 'h'.\n",
    "    print(verificador)"
   ]
  },
  {
   "cell_type": "markdown",
   "metadata": {},
   "source": [
    "## While e For juntos"
   ]
  },
  {
   "cell_type": "code",
   "execution_count": 8,
   "metadata": {},
   "outputs": [
    {
     "name": "stdout",
     "output_type": "stream",
     "text": [
      "2 é um número primo\n",
      "3 é um número primo\n",
      "5 é um número primo\n"
     ]
    }
   ],
   "source": [
    "for i in range(2,6):\n",
    "    j = 2\n",
    "    counter = 0\n",
    "    while j < i: # Só vai realizar a operação enquanto 'i' for maior que 'j'. Vai parar o loop quando for 'i' e 'j' forem iguais.\n",
    "        if i % j == 0:\n",
    "            counter = 1 # counter é igual a 1, sempre que a sobra da divisão for 0 \n",
    "            j = j + 1\n",
    "        else:\n",
    "            j = j + 1 # counter continua igual a 0\n",
    "    \n",
    "    if counter == 0: # Após o loop. Se o counter não for igual a 1, imprima:\n",
    "        print(str(i) + \" é um número primo\")\n",
    "        counter = 0\n",
    "    else:\n",
    "        counter = 0"
   ]
  },
  {
   "cell_type": "code",
   "execution_count": null,
   "metadata": {},
   "outputs": [],
   "source": []
  }
 ],
 "metadata": {
  "kernelspec": {
   "display_name": "Python 3",
   "language": "python",
   "name": "python3"
  },
  "language_info": {
   "codemirror_mode": {
    "name": "ipython",
    "version": 3
   },
   "file_extension": ".py",
   "mimetype": "text/x-python",
   "name": "python",
   "nbconvert_exporter": "python",
   "pygments_lexer": "ipython3",
   "version": "3.8.8"
  }
 },
 "nbformat": 4,
 "nbformat_minor": 4
}
