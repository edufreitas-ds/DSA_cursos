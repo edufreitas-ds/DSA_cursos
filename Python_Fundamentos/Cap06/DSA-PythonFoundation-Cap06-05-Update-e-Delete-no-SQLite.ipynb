{
 "cells": [
  {
   "cell_type": "markdown",
   "metadata": {},
   "source": [
    "# <font color = \"green\"> DSA - Python Fundamentos para Análise de Dados - Cáp.06 </font>"
   ]
  },
  {
   "cell_type": "markdown",
   "metadata": {},
   "source": [
    "## Update e Delete"
   ]
  },
  {
   "cell_type": "code",
   "execution_count": 1,
   "metadata": {},
   "outputs": [],
   "source": [
    "# Remove o arquivo com o banco de dados SQLite (caso exista)\n",
    "import os\n",
    "os.remove(\"dsa.db\") if os.path.exists(\"dsa.db\") else None"
   ]
  },
  {
   "cell_type": "code",
   "execution_count": 12,
   "metadata": {},
   "outputs": [],
   "source": [
    "import sqlite3\n",
    "import random\n",
    "import time\n",
    "import datetime\n",
    "\n",
    "# Criando uma conexão\n",
    "conn = sqlite3.connect(\"dsa.db\")\n",
    "\n",
    "# Criando um cursor\n",
    "c = conn.cursor()\n",
    "\n",
    "# Função para criar uma tabela\n",
    "def create_table():\n",
    "    c.execute(\"CREATE TABLE IF NOT EXISTS produtos(id INTEGER PRIMARY KEY AUTOINCREMENT NOT NULL, date TEXT, \\\n",
    "              prod_name TEXT, valor REAL)\")\n",
    "\n",
    "# Função para inserir uma linha\n",
    "def data_insert():\n",
    "    c.execute(\"INSERT INTO produtos VALUES(002, '02-05-2016', 'teclado', 130 )\")\n",
    "    conn.commit()\n",
    "    \n",
    "# Usando varáveis para inserir dados\n",
    "def data_insert_var():\n",
    "    new_date = datetime.datetime.now()\n",
    "    new_prod_name = \"monitor\"\n",
    "    new_valor = random.randrange(50,100)\n",
    "    c.execute(\"INSERT INTO produtos (date, prod_name, valor) VALUES ( ?, ?, ?)\",\n",
    "             (new_date, new_prod_name, new_valor))\n",
    "    conn.commit()\n",
    "    \n",
    "# Leitura de dados\n",
    "def leitura_todos_dados():\n",
    "    c.execute(\"SELECT * FROM PRODUTOS\")\n",
    "    for linha in c.fetchall():\n",
    "        print(linha)\n",
    "\n",
    "# Leitura de colunas específicas\n",
    "def leitura_colunas():\n",
    "    c.execute(\"SELECT * FROM PRODUTOS\")\n",
    "    for linha in c.fetchall():\n",
    "        print(linha[3])\n",
    "        \n",
    "# Update\n",
    "def atualiza_dados():\n",
    "    c.execute(\"UPDATE produtos SET valor = 70.00 WHERE valor >= 90.0\")\n",
    "    conn.commit\n",
    "    \n",
    "# Delete\n",
    "def remove_dados():\n",
    "    c.execute(\"DELETE FROM produtos WHERE valor <= 60.0\")\n",
    "    conn.commit()"
   ]
  },
  {
   "cell_type": "code",
   "execution_count": 3,
   "metadata": {},
   "outputs": [],
   "source": [
    "create_table()"
   ]
  },
  {
   "cell_type": "code",
   "execution_count": 4,
   "metadata": {},
   "outputs": [],
   "source": [
    "# Gero novos registros e insiro na tabela\n",
    "# Insiro um dado a cada 1 segundo\n",
    "for i in range(10):\n",
    "    data_insert_var()\n",
    "    time.sleep(1)"
   ]
  },
  {
   "cell_type": "code",
   "execution_count": 5,
   "metadata": {},
   "outputs": [
    {
     "name": "stdout",
     "output_type": "stream",
     "text": [
      "(1, '2021-04-16 10:41:08.798232', 'monitor', 67.0)\n",
      "(2, '2021-04-16 10:41:09.813670', 'monitor', 69.0)\n",
      "(3, '2021-04-16 10:41:10.828525', 'monitor', 53.0)\n",
      "(4, '2021-04-16 10:41:11.836090', 'monitor', 71.0)\n",
      "(5, '2021-04-16 10:41:12.853162', 'monitor', 95.0)\n",
      "(6, '2021-04-16 10:41:13.868011', 'monitor', 59.0)\n",
      "(7, '2021-04-16 10:41:14.882759', 'monitor', 76.0)\n",
      "(8, '2021-04-16 10:41:15.899208', 'monitor', 50.0)\n",
      "(9, '2021-04-16 10:41:16.914469', 'monitor', 99.0)\n",
      "(10, '2021-04-16 10:41:18.085562', 'monitor', 54.0)\n"
     ]
    }
   ],
   "source": [
    "leitura_todos_dados()"
   ]
  },
  {
   "cell_type": "code",
   "execution_count": 6,
   "metadata": {},
   "outputs": [
    {
     "name": "stdout",
     "output_type": "stream",
     "text": [
      "67.0\n",
      "69.0\n",
      "53.0\n",
      "71.0\n",
      "95.0\n",
      "59.0\n",
      "76.0\n",
      "50.0\n",
      "99.0\n",
      "54.0\n"
     ]
    }
   ],
   "source": [
    "leitura_colunas()"
   ]
  },
  {
   "cell_type": "code",
   "execution_count": 10,
   "metadata": {},
   "outputs": [],
   "source": [
    "atualiza_dados()"
   ]
  },
  {
   "cell_type": "code",
   "execution_count": 11,
   "metadata": {},
   "outputs": [
    {
     "name": "stdout",
     "output_type": "stream",
     "text": [
      "(1, '2021-04-16 10:41:08.798232', 'monitor', 67.0)\n",
      "(2, '2021-04-16 10:41:09.813670', 'monitor', 69.0)\n",
      "(3, '2021-04-16 10:41:10.828525', 'monitor', 53.0)\n",
      "(4, '2021-04-16 10:41:11.836090', 'monitor', 71.0)\n",
      "(5, '2021-04-16 10:41:12.853162', 'monitor', 70.0)\n",
      "(6, '2021-04-16 10:41:13.868011', 'monitor', 59.0)\n",
      "(7, '2021-04-16 10:41:14.882759', 'monitor', 76.0)\n",
      "(8, '2021-04-16 10:41:15.899208', 'monitor', 50.0)\n",
      "(9, '2021-04-16 10:41:16.914469', 'monitor', 70.0)\n",
      "(10, '2021-04-16 10:41:18.085562', 'monitor', 54.0)\n"
     ]
    }
   ],
   "source": [
    "leitura_todos_dados()"
   ]
  },
  {
   "cell_type": "code",
   "execution_count": 13,
   "metadata": {},
   "outputs": [],
   "source": [
    "remove_dados()"
   ]
  },
  {
   "cell_type": "code",
   "execution_count": 14,
   "metadata": {},
   "outputs": [
    {
     "name": "stdout",
     "output_type": "stream",
     "text": [
      "(1, '2021-04-16 10:41:08.798232', 'monitor', 67.0)\n",
      "(2, '2021-04-16 10:41:09.813670', 'monitor', 69.0)\n",
      "(4, '2021-04-16 10:41:11.836090', 'monitor', 71.0)\n",
      "(5, '2021-04-16 10:41:12.853162', 'monitor', 95.0)\n",
      "(7, '2021-04-16 10:41:14.882759', 'monitor', 76.0)\n",
      "(9, '2021-04-16 10:41:16.914469', 'monitor', 99.0)\n"
     ]
    }
   ],
   "source": [
    "leitura_todos_dados()"
   ]
  },
  {
   "cell_type": "code",
   "execution_count": null,
   "metadata": {},
   "outputs": [],
   "source": [
    "# Encerrando a conexão e fechando o cursor    \n",
    "    \n",
    "c.close()\n",
    "conn.close()"
   ]
  },
  {
   "cell_type": "markdown",
   "metadata": {},
   "source": [
    "# <font color = \"green\"> FIM! </font>"
   ]
  }
 ],
 "metadata": {
  "kernelspec": {
   "display_name": "Python 3",
   "language": "python",
   "name": "python3"
  },
  "language_info": {
   "codemirror_mode": {
    "name": "ipython",
    "version": 3
   },
   "file_extension": ".py",
   "mimetype": "text/x-python",
   "name": "python",
   "nbconvert_exporter": "python",
   "pygments_lexer": "ipython3",
   "version": "3.8.5"
  }
 },
 "nbformat": 4,
 "nbformat_minor": 4
}
