{
 "cells": [
  {
   "cell_type": "markdown",
   "id": "cf677515",
   "metadata": {},
   "source": [
    "GIT TEST LETS GO"
   ]
  },
  {
   "cell_type": "markdown",
   "id": "e2768a13",
   "metadata": {},
   "source": [
    "Então supondo que sempre que eu faça mudanças, tudo que preciso fazer é "
   ]
  },
  {
   "cell_type": "code",
   "execution_count": null,
   "id": "c514bc9c",
   "metadata": {},
   "outputs": [],
   "source": []
  }
 ],
 "metadata": {
  "kernelspec": {
   "display_name": "Python 3",
   "language": "python",
   "name": "python3"
  },
  "language_info": {
   "codemirror_mode": {
    "name": "ipython",
    "version": 3
   },
   "file_extension": ".py",
   "mimetype": "text/x-python",
   "name": "python",
   "nbconvert_exporter": "python",
   "pygments_lexer": "ipython3",
   "version": "3.8.8"
  }
 },
 "nbformat": 4,
 "nbformat_minor": 5
}
